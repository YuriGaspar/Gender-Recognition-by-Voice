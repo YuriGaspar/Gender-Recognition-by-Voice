{
 "cells": [
  {
   "cell_type": "code",
   "execution_count": null,
   "metadata": {
    "collapsed": true
   },
   "outputs": [],
   "source": [
    "# ------- Importing the Libraries \n",
    "import numpy as np\n",
    "np.set_printoptions(threshold=np.inf) #Showing all the array in Console\n",
    "import matplotlib.pyplot as plt\n",
    "import pandas as pd\n",
    "\n",
    "#------ Importing the DataSet and Separating the Independent and Dependent Variables\n",
    "dataset = pd.read_csv('voice.csv')\n",
    "dataset.corr()\n",
    "# Getting all Columns, except the last one with the genders\n",
    "X = dataset.iloc[:, : -1].values\n",
    "# Getting the last column\n",
    "y = dataset.iloc[:, 20].values \n",
    "\n",
    "#------ Taking Care of Missing Data\n",
    "# dataset.isnull().sum() \n",
    "# No Need of Taking Care of Missing Data :)"
   ]
  },
  {
   "cell_type": "code",
   "execution_count": 4,
   "metadata": {
    "collapsed": false
   },
   "outputs": [
    {
     "name": "stdout",
     "output_type": "stream",
     "text": [
      "Number of Males 1584\n",
      "Number of Females 1584\n"
     ]
    }
   ],
   "source": [
    "#------ Checking the Number of Male and Females\n",
    "print(\"Number of Males {}\".format(dataset[dataset.label == 'male'].shape[0])) # shape returns the dimensions of the array. If Y has n rows and m columns, then Y.shape is (n,m). So Y.shape[0] is n. \n",
    "print(\"Number of Females {}\".format(dataset[dataset.label == 'female'].shape[0]))\n"
   ]
  }
 ],
 "metadata": {
  "kernelspec": {
   "display_name": "Python 3",
   "language": "python",
   "name": "python3"
  },
  "language_info": {
   "codemirror_mode": {
    "name": "ipython",
    "version": 3
   },
   "file_extension": ".py",
   "mimetype": "text/x-python",
   "name": "python",
   "nbconvert_exporter": "python",
   "pygments_lexer": "ipython3",
   "version": "3.6.0"
  }
 },
 "nbformat": 4,
 "nbformat_minor": 2
}
